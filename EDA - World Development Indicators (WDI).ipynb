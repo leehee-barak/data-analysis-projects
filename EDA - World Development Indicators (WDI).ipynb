{
 "cells": [
  {
   "cell_type": "markdown",
   "metadata": {},
   "source": [
    "# Exploring The World Development Indicators "
   ]
  },
  {
   "cell_type": "markdown",
   "metadata": {},
   "source": [
    "This project is based on [The World Development Indicators database (WDI)](https://databank.worldbank.org/home). The database contains a collection of thousands of development indicators from 247 countries all around the world, for example: currency, government accounting concept, income group, adolescent fertility rate, food exports, etc.\n",
    "\n",
    "\n",
    "The database was last updated on May 28th, 2020.\n"
   ]
  },
  {
   "cell_type": "code",
   "execution_count": 58,
   "metadata": {},
   "outputs": [],
   "source": [
    "import sqlite3\n",
    "import pandas as pd\n",
    "from matplotlib import pyplot as plt\n",
    "import seaborn as sns"
   ]
  },
  {
   "cell_type": "code",
   "execution_count": 3,
   "metadata": {},
   "outputs": [],
   "source": [
    "#Establish connection with the database\n",
    "conn = sqlite3.connect('C://Users//Leehee//Desktop//python//EDA//database.sqlite')\n"
   ]
  },
  {
   "cell_type": "markdown",
   "metadata": {},
   "source": [
    "## Getting to Know the Database"
   ]
  },
  {
   "cell_type": "code",
   "execution_count": 4,
   "metadata": {},
   "outputs": [
    {
     "name": "stdout",
     "output_type": "stream",
     "text": [
      "Country\n",
      "CountryNotes\n",
      "Series\n",
      "Indicators\n",
      "SeriesNotes\n",
      "Footnotes\n"
     ]
    }
   ],
   "source": [
    "#Get tables names\n",
    "  \n",
    "get_tables_names = conn.execute(\"SELECT name FROM sqlite_master WHERE type='table';\")\n",
    "for name in get_tables_names:\n",
    "    print(name[0])"
   ]
  },
  {
   "cell_type": "code",
   "execution_count": 79,
   "metadata": {},
   "outputs": [
    {
     "name": "stdout",
     "output_type": "stream",
     "text": [
      "(0, 'CountryCode', 'TEXT', 0, None, 0)\n",
      "(1, 'ShortName', 'TEXT', 0, None, 0)\n",
      "(2, 'TableName', 'TEXT', 0, None, 0)\n",
      "(3, 'LongName', 'TEXT', 0, None, 0)\n",
      "(4, 'Alpha2Code', 'TEXT', 0, None, 0)\n",
      "(5, 'CurrencyUnit', 'TEXT', 0, None, 0)\n",
      "(6, 'SpecialNotes', 'TEXT', 0, None, 0)\n",
      "(7, 'Region', 'TEXT', 0, None, 0)\n",
      "(8, 'IncomeGroup', 'TEXT', 0, None, 0)\n",
      "(9, 'Wb2Code', 'TEXT', 0, None, 0)\n",
      "(10, 'NationalAccountsBaseYear', 'TEXT', 0, None, 0)\n",
      "(11, 'NationalAccountsReferenceYear', 'TEXT', 0, None, 0)\n",
      "(12, 'SnaPriceValuation', 'TEXT', 0, None, 0)\n",
      "(13, 'LendingCategory', 'TEXT', 0, None, 0)\n",
      "(14, 'OtherGroups', 'TEXT', 0, None, 0)\n",
      "(15, 'SystemOfNationalAccounts', 'TEXT', 0, None, 0)\n",
      "(16, 'AlternativeConversionFactor', 'TEXT', 0, None, 0)\n",
      "(17, 'PppSurveyYear', 'TEXT', 0, None, 0)\n",
      "(18, 'BalanceOfPaymentsManualInUse', 'TEXT', 0, None, 0)\n",
      "(19, 'ExternalDebtReportingStatus', 'TEXT', 0, None, 0)\n",
      "(20, 'SystemOfTrade', 'TEXT', 0, None, 0)\n",
      "(21, 'GovernmentAccountingConcept', 'TEXT', 0, None, 0)\n",
      "(22, 'ImfDataDisseminationStandard', 'TEXT', 0, None, 0)\n",
      "(23, 'LatestPopulationCensus', 'TEXT', 0, None, 0)\n",
      "(24, 'LatestHouseholdSurvey', 'TEXT', 0, None, 0)\n",
      "(25, 'SourceOfMostRecentIncomeAndExpenditureData', 'TEXT', 0, None, 0)\n",
      "(26, 'VitalRegistrationComplete', 'TEXT', 0, None, 0)\n",
      "(27, 'LatestAgriculturalCensus', 'TEXT', 0, None, 0)\n",
      "(28, 'LatestIndustrialData', 'NUMERIC', 0, None, 0)\n",
      "(29, 'LatestTradeData', 'NUMERIC', 0, None, 0)\n",
      "(30, 'LatestWaterWithdrawalData', 'NUMERIC', 0, None, 0)\n"
     ]
    }
   ],
   "source": [
    "#Get info from the main table\n",
    "for c in conn.execute(\"PRAGMA table_info(country)\"):\n",
    "    print(c)"
   ]
  },
  {
   "cell_type": "code",
   "execution_count": 6,
   "metadata": {},
   "outputs": [
    {
     "data": {
      "text/html": [
       "<div>\n",
       "<style scoped>\n",
       "    .dataframe tbody tr th:only-of-type {\n",
       "        vertical-align: middle;\n",
       "    }\n",
       "\n",
       "    .dataframe tbody tr th {\n",
       "        vertical-align: top;\n",
       "    }\n",
       "\n",
       "    .dataframe thead th {\n",
       "        text-align: right;\n",
       "    }\n",
       "</style>\n",
       "<table border=\"1\" class=\"dataframe\">\n",
       "  <thead>\n",
       "    <tr style=\"text-align: right;\">\n",
       "      <th></th>\n",
       "      <th>type</th>\n",
       "      <th>name</th>\n",
       "      <th>rootpage</th>\n",
       "    </tr>\n",
       "  </thead>\n",
       "  <tbody>\n",
       "    <tr>\n",
       "      <th>0</th>\n",
       "      <td>table</td>\n",
       "      <td>Country</td>\n",
       "      <td>2</td>\n",
       "    </tr>\n",
       "    <tr>\n",
       "      <th>1</th>\n",
       "      <td>table</td>\n",
       "      <td>CountryNotes</td>\n",
       "      <td>186</td>\n",
       "    </tr>\n",
       "    <tr>\n",
       "      <th>2</th>\n",
       "      <td>table</td>\n",
       "      <td>Series</td>\n",
       "      <td>948</td>\n",
       "    </tr>\n",
       "    <tr>\n",
       "      <th>3</th>\n",
       "      <td>table</td>\n",
       "      <td>Indicators</td>\n",
       "      <td>4448</td>\n",
       "    </tr>\n",
       "    <tr>\n",
       "      <th>4</th>\n",
       "      <td>table</td>\n",
       "      <td>SeriesNotes</td>\n",
       "      <td>1317550</td>\n",
       "    </tr>\n",
       "    <tr>\n",
       "      <th>5</th>\n",
       "      <td>table</td>\n",
       "      <td>Footnotes</td>\n",
       "      <td>1317587</td>\n",
       "    </tr>\n",
       "  </tbody>\n",
       "</table>\n",
       "</div>"
      ],
      "text/plain": [
       "    type          name  rootpage\n",
       "0  table       Country         2\n",
       "1  table  CountryNotes       186\n",
       "2  table        Series       948\n",
       "3  table    Indicators      4448\n",
       "4  table   SeriesNotes   1317550\n",
       "5  table     Footnotes   1317587"
      ]
     },
     "execution_count": 6,
     "metadata": {},
     "output_type": "execute_result"
    }
   ],
   "source": [
    "#Get all tables as a df\n",
    "pd.read_sql(\"\"\" SELECT type,name,rootpage\n",
    "                FROM sqlite_master\n",
    "                WHERE type='table';\"\"\",\n",
    "           conn)"
   ]
  },
  {
   "cell_type": "markdown",
   "metadata": {},
   "source": [
    "## Exploring The Indicatrs Table"
   ]
  },
  {
   "cell_type": "code",
   "execution_count": 7,
   "metadata": {},
   "outputs": [
    {
     "data": {
      "text/html": [
       "<div>\n",
       "<style scoped>\n",
       "    .dataframe tbody tr th:only-of-type {\n",
       "        vertical-align: middle;\n",
       "    }\n",
       "\n",
       "    .dataframe tbody tr th {\n",
       "        vertical-align: top;\n",
       "    }\n",
       "\n",
       "    .dataframe thead th {\n",
       "        text-align: right;\n",
       "    }\n",
       "</style>\n",
       "<table border=\"1\" class=\"dataframe\">\n",
       "  <thead>\n",
       "    <tr style=\"text-align: right;\">\n",
       "      <th></th>\n",
       "      <th>CountryName</th>\n",
       "      <th>CountryCode</th>\n",
       "      <th>IndicatorName</th>\n",
       "      <th>IndicatorCode</th>\n",
       "      <th>Year</th>\n",
       "      <th>Value</th>\n",
       "    </tr>\n",
       "  </thead>\n",
       "  <tbody>\n",
       "    <tr>\n",
       "      <th>0</th>\n",
       "      <td>Arab World</td>\n",
       "      <td>ARB</td>\n",
       "      <td>Adolescent fertility rate (births per 1,000 wo...</td>\n",
       "      <td>SP.ADO.TFRT</td>\n",
       "      <td>1960</td>\n",
       "      <td>1.335609e+02</td>\n",
       "    </tr>\n",
       "    <tr>\n",
       "      <th>1</th>\n",
       "      <td>Arab World</td>\n",
       "      <td>ARB</td>\n",
       "      <td>Age dependency ratio (% of working-age populat...</td>\n",
       "      <td>SP.POP.DPND</td>\n",
       "      <td>1960</td>\n",
       "      <td>8.779760e+01</td>\n",
       "    </tr>\n",
       "    <tr>\n",
       "      <th>2</th>\n",
       "      <td>Arab World</td>\n",
       "      <td>ARB</td>\n",
       "      <td>Age dependency ratio, old (% of working-age po...</td>\n",
       "      <td>SP.POP.DPND.OL</td>\n",
       "      <td>1960</td>\n",
       "      <td>6.634579e+00</td>\n",
       "    </tr>\n",
       "    <tr>\n",
       "      <th>3</th>\n",
       "      <td>Arab World</td>\n",
       "      <td>ARB</td>\n",
       "      <td>Age dependency ratio, young (% of working-age ...</td>\n",
       "      <td>SP.POP.DPND.YG</td>\n",
       "      <td>1960</td>\n",
       "      <td>8.102333e+01</td>\n",
       "    </tr>\n",
       "    <tr>\n",
       "      <th>4</th>\n",
       "      <td>Arab World</td>\n",
       "      <td>ARB</td>\n",
       "      <td>Arms exports (SIPRI trend indicator values)</td>\n",
       "      <td>MS.MIL.XPRT.KD</td>\n",
       "      <td>1960</td>\n",
       "      <td>3.000000e+06</td>\n",
       "    </tr>\n",
       "    <tr>\n",
       "      <th>5</th>\n",
       "      <td>Arab World</td>\n",
       "      <td>ARB</td>\n",
       "      <td>Arms imports (SIPRI trend indicator values)</td>\n",
       "      <td>MS.MIL.MPRT.KD</td>\n",
       "      <td>1960</td>\n",
       "      <td>5.380000e+08</td>\n",
       "    </tr>\n",
       "    <tr>\n",
       "      <th>6</th>\n",
       "      <td>Arab World</td>\n",
       "      <td>ARB</td>\n",
       "      <td>Birth rate, crude (per 1,000 people)</td>\n",
       "      <td>SP.DYN.CBRT.IN</td>\n",
       "      <td>1960</td>\n",
       "      <td>4.769789e+01</td>\n",
       "    </tr>\n",
       "    <tr>\n",
       "      <th>7</th>\n",
       "      <td>Arab World</td>\n",
       "      <td>ARB</td>\n",
       "      <td>CO2 emissions (kt)</td>\n",
       "      <td>EN.ATM.CO2E.KT</td>\n",
       "      <td>1960</td>\n",
       "      <td>5.956399e+04</td>\n",
       "    </tr>\n",
       "    <tr>\n",
       "      <th>8</th>\n",
       "      <td>Arab World</td>\n",
       "      <td>ARB</td>\n",
       "      <td>CO2 emissions (metric tons per capita)</td>\n",
       "      <td>EN.ATM.CO2E.PC</td>\n",
       "      <td>1960</td>\n",
       "      <td>6.439635e-01</td>\n",
       "    </tr>\n",
       "    <tr>\n",
       "      <th>9</th>\n",
       "      <td>Arab World</td>\n",
       "      <td>ARB</td>\n",
       "      <td>CO2 emissions from gaseous fuel consumption (%...</td>\n",
       "      <td>EN.ATM.CO2E.GF.ZS</td>\n",
       "      <td>1960</td>\n",
       "      <td>5.041292e+00</td>\n",
       "    </tr>\n",
       "  </tbody>\n",
       "</table>\n",
       "</div>"
      ],
      "text/plain": [
       "  CountryName CountryCode                                      IndicatorName  \\\n",
       "0  Arab World         ARB  Adolescent fertility rate (births per 1,000 wo...   \n",
       "1  Arab World         ARB  Age dependency ratio (% of working-age populat...   \n",
       "2  Arab World         ARB  Age dependency ratio, old (% of working-age po...   \n",
       "3  Arab World         ARB  Age dependency ratio, young (% of working-age ...   \n",
       "4  Arab World         ARB        Arms exports (SIPRI trend indicator values)   \n",
       "5  Arab World         ARB        Arms imports (SIPRI trend indicator values)   \n",
       "6  Arab World         ARB               Birth rate, crude (per 1,000 people)   \n",
       "7  Arab World         ARB                                 CO2 emissions (kt)   \n",
       "8  Arab World         ARB             CO2 emissions (metric tons per capita)   \n",
       "9  Arab World         ARB  CO2 emissions from gaseous fuel consumption (%...   \n",
       "\n",
       "       IndicatorCode  Year         Value  \n",
       "0        SP.ADO.TFRT  1960  1.335609e+02  \n",
       "1        SP.POP.DPND  1960  8.779760e+01  \n",
       "2     SP.POP.DPND.OL  1960  6.634579e+00  \n",
       "3     SP.POP.DPND.YG  1960  8.102333e+01  \n",
       "4     MS.MIL.XPRT.KD  1960  3.000000e+06  \n",
       "5     MS.MIL.MPRT.KD  1960  5.380000e+08  \n",
       "6     SP.DYN.CBRT.IN  1960  4.769789e+01  \n",
       "7     EN.ATM.CO2E.KT  1960  5.956399e+04  \n",
       "8     EN.ATM.CO2E.PC  1960  6.439635e-01  \n",
       "9  EN.ATM.CO2E.GF.ZS  1960  5.041292e+00  "
      ]
     },
     "execution_count": 7,
     "metadata": {},
     "output_type": "execute_result"
    }
   ],
   "source": [
    "#Get the indicators table as a dataframe\n",
    "pd.read_sql(\"\"\" SELECT * FROM indicators LIMIT 5;\"\"\", conn)"
   ]
  },
  {
   "cell_type": "code",
   "execution_count": 8,
   "metadata": {},
   "outputs": [
    {
     "data": {
      "text/html": [
       "<div>\n",
       "<style scoped>\n",
       "    .dataframe tbody tr th:only-of-type {\n",
       "        vertical-align: middle;\n",
       "    }\n",
       "\n",
       "    .dataframe tbody tr th {\n",
       "        vertical-align: top;\n",
       "    }\n",
       "\n",
       "    .dataframe thead th {\n",
       "        text-align: right;\n",
       "    }\n",
       "</style>\n",
       "<table border=\"1\" class=\"dataframe\">\n",
       "  <thead>\n",
       "    <tr style=\"text-align: right;\">\n",
       "      <th></th>\n",
       "      <th>totalCountries</th>\n",
       "    </tr>\n",
       "  </thead>\n",
       "  <tbody>\n",
       "    <tr>\n",
       "      <th>0</th>\n",
       "      <td>247</td>\n",
       "    </tr>\n",
       "  </tbody>\n",
       "</table>\n",
       "</div>"
      ],
      "text/plain": [
       "   totalCountries\n",
       "0             247"
      ]
     },
     "execution_count": 8,
     "metadata": {},
     "output_type": "execute_result"
    }
   ],
   "source": [
    "#Get all unique indicators \n",
    "pd.read_sql(\"\"\" SELECT distinct indicatorname FROM indicators; \"\"\", conn)\n",
    "\n",
    "\n",
    "#List of countries names\n",
    "pd.read_sql(\"\"\" SELECT countryname, count(countryname) FROM indicators GROUP BY countryname; \"\"\", conn)\n",
    "#Number of countries\n",
    "pd.read_sql(\"\"\" SELECT count(distinct countryname) totalCountries FROM indicators; \"\"\", conn)\n",
    "\n"
   ]
  },
  {
   "cell_type": "code",
   "execution_count": 9,
   "metadata": {},
   "outputs": [
    {
     "data": {
      "text/html": [
       "<div>\n",
       "<style scoped>\n",
       "    .dataframe tbody tr th:only-of-type {\n",
       "        vertical-align: middle;\n",
       "    }\n",
       "\n",
       "    .dataframe tbody tr th {\n",
       "        vertical-align: top;\n",
       "    }\n",
       "\n",
       "    .dataframe thead th {\n",
       "        text-align: right;\n",
       "    }\n",
       "</style>\n",
       "<table border=\"1\" class=\"dataframe\">\n",
       "  <thead>\n",
       "    <tr style=\"text-align: right;\">\n",
       "      <th></th>\n",
       "      <th>missing_country_name</th>\n",
       "      <th>missing_country_code</th>\n",
       "      <th>missing_indicatorname</th>\n",
       "      <th>missing_year</th>\n",
       "    </tr>\n",
       "  </thead>\n",
       "  <tbody>\n",
       "    <tr>\n",
       "      <th>0</th>\n",
       "      <td>0</td>\n",
       "      <td>0</td>\n",
       "      <td>0</td>\n",
       "      <td>0</td>\n",
       "    </tr>\n",
       "  </tbody>\n",
       "</table>\n",
       "</div>"
      ],
      "text/plain": [
       "   missing_country_name  missing_country_code  missing_indicatorname  \\\n",
       "0                     0                     0                      0   \n",
       "\n",
       "   missing_year  \n",
       "0             0  "
      ]
     },
     "execution_count": 9,
     "metadata": {},
     "output_type": "execute_result"
    }
   ],
   "source": [
    "#Check for NULL values\n",
    "pd.read_sql(\"\"\" SELECT count(*) - count(countryname) missing_country_name,\n",
    "                       count(*) - count(countrycode) missing_country_code,\n",
    "                       count(*) - count(indicatorname) missing_indicatorname,\n",
    "                       count(*) - count(year) missing_year\n",
    "                    FROM indicators; \"\"\", conn)\n"
   ]
  },
  {
   "cell_type": "code",
   "execution_count": 10,
   "metadata": {},
   "outputs": [
    {
     "data": {
      "text/html": [
       "<div>\n",
       "<style scoped>\n",
       "    .dataframe tbody tr th:only-of-type {\n",
       "        vertical-align: middle;\n",
       "    }\n",
       "\n",
       "    .dataframe tbody tr th {\n",
       "        vertical-align: top;\n",
       "    }\n",
       "\n",
       "    .dataframe thead th {\n",
       "        text-align: right;\n",
       "    }\n",
       "</style>\n",
       "<table border=\"1\" class=\"dataframe\">\n",
       "  <thead>\n",
       "    <tr style=\"text-align: right;\">\n",
       "      <th></th>\n",
       "      <th>CountryName</th>\n",
       "      <th>numberOfuniqueIndicators</th>\n",
       "    </tr>\n",
       "  </thead>\n",
       "  <tbody>\n",
       "    <tr>\n",
       "      <th>0</th>\n",
       "      <td>Bolivia</td>\n",
       "      <td>1307</td>\n",
       "    </tr>\n",
       "  </tbody>\n",
       "</table>\n",
       "</div>"
      ],
      "text/plain": [
       "  CountryName  numberOfuniqueIndicators\n",
       "0     Bolivia                      1307"
      ]
     },
     "execution_count": 10,
     "metadata": {},
     "output_type": "execute_result"
    }
   ],
   "source": [
    "#Get country with most info\n",
    "pd.read_sql(\"\"\" SELECT countryname, count(distinct indicatorname) numberOfuniqueIndicators\n",
    "                    FROM indicators \n",
    "                    GROUP BY countryname\n",
    "                    ORDER BY numberOfuniqueIndicators DESC\n",
    "                    LIMIT 1; \"\"\", conn)\n",
    "\n"
   ]
  },
  {
   "cell_type": "markdown",
   "metadata": {},
   "source": [
    "There are 247 countries in the dataframe, describing 1344 development indicators. There are no missing values.\n",
    "Bolivia has the most indicators with 1,307 different indictaros.\n"
   ]
  },
  {
   "cell_type": "markdown",
   "metadata": {},
   "source": [
    "## Which Country Has the Highets Survival to 65y/o rate?"
   ]
  },
  {
   "cell_type": "code",
   "execution_count": 27,
   "metadata": {},
   "outputs": [
    {
     "data": {
      "text/html": [
       "<div>\n",
       "<style scoped>\n",
       "    .dataframe tbody tr th:only-of-type {\n",
       "        vertical-align: middle;\n",
       "    }\n",
       "\n",
       "    .dataframe tbody tr th {\n",
       "        vertical-align: top;\n",
       "    }\n",
       "\n",
       "    .dataframe thead th {\n",
       "        text-align: right;\n",
       "    }\n",
       "</style>\n",
       "<table border=\"1\" class=\"dataframe\">\n",
       "  <thead>\n",
       "    <tr style=\"text-align: right;\">\n",
       "      <th></th>\n",
       "      <th>CountryName</th>\n",
       "      <th>avg_survival65_male</th>\n",
       "    </tr>\n",
       "  </thead>\n",
       "  <tbody>\n",
       "    <tr>\n",
       "      <th>0</th>\n",
       "      <td>Sierra Leone</td>\n",
       "      <td>26.724106</td>\n",
       "    </tr>\n",
       "    <tr>\n",
       "      <th>1</th>\n",
       "      <td>Eritrea</td>\n",
       "      <td>29.941574</td>\n",
       "    </tr>\n",
       "    <tr>\n",
       "      <th>2</th>\n",
       "      <td>Angola</td>\n",
       "      <td>30.038119</td>\n",
       "    </tr>\n",
       "    <tr>\n",
       "      <th>3</th>\n",
       "      <td>South Sudan</td>\n",
       "      <td>31.710769</td>\n",
       "    </tr>\n",
       "    <tr>\n",
       "      <th>4</th>\n",
       "      <td>Mozambique</td>\n",
       "      <td>32.200426</td>\n",
       "    </tr>\n",
       "    <tr>\n",
       "      <th>5</th>\n",
       "      <td>Rwanda</td>\n",
       "      <td>33.123776</td>\n",
       "    </tr>\n",
       "    <tr>\n",
       "      <th>6</th>\n",
       "      <td>Central African Republic</td>\n",
       "      <td>33.518350</td>\n",
       "    </tr>\n",
       "    <tr>\n",
       "      <th>7</th>\n",
       "      <td>Malawi</td>\n",
       "      <td>34.509180</td>\n",
       "    </tr>\n",
       "    <tr>\n",
       "      <th>8</th>\n",
       "      <td>Nigeria</td>\n",
       "      <td>34.710914</td>\n",
       "    </tr>\n",
       "    <tr>\n",
       "      <th>9</th>\n",
       "      <td>Chad</td>\n",
       "      <td>34.763499</td>\n",
       "    </tr>\n",
       "  </tbody>\n",
       "</table>\n",
       "</div>"
      ],
      "text/plain": [
       "                CountryName  avg_survival65_male\n",
       "0              Sierra Leone            26.724106\n",
       "1                   Eritrea            29.941574\n",
       "2                    Angola            30.038119\n",
       "3               South Sudan            31.710769\n",
       "4                Mozambique            32.200426\n",
       "5                    Rwanda            33.123776\n",
       "6  Central African Republic            33.518350\n",
       "7                    Malawi            34.509180\n",
       "8                   Nigeria            34.710914\n",
       "9                      Chad            34.763499"
      ]
     },
     "execution_count": 27,
     "metadata": {},
     "output_type": "execute_result"
    }
   ],
   "source": [
    "#Females - top 10 countries with highest survival rate\n",
    "pd.read_sql(\"\"\" SELECT countryname, avg(value) as avg_survival65_female\n",
    "                    FROM indicators \n",
    "                    WHERE indicatorname = 'Survival to age 65, female (% of cohort)'\n",
    "                    GROUP BY countryname\n",
    "                    ORDER BY avg_survival65_female DESC\n",
    "                    LIMIT 10;\"\"\", conn)\n",
    "\n",
    "#Females - bottom 10 countries with lowest survival rate\n",
    "pd.read_sql(\"\"\" SELECT countryname, avg(value) as avg_survival65_female\n",
    "                    FROM indicators \n",
    "                    WHERE indicatorname = 'Survival to age 65, female (% of cohort)'\n",
    "                    GROUP BY countryname\n",
    "                    ORDER BY avg_survival65_female ASC\n",
    "                    LIMIT 10;\"\"\", conn)\n",
    "\n",
    "#Males - top 10 countries with highest survival rate\n",
    "pd.read_sql(\"\"\" SELECT countryname, avg(value) as avg_survival65_male\n",
    "                    FROM indicators \n",
    "                    WHERE indicatorname = 'Survival to age 65, male (% of cohort)'\n",
    "                    GROUP BY countryname\n",
    "                    ORDER BY avg_survival65_male DESC\n",
    "                    LIMIT 10;\"\"\", conn)\n",
    "\n",
    "#Males - bottom 10 countries with lowest survival rate\n",
    "pd.read_sql(\"\"\" SELECT countryname, avg(value) as avg_survival65_male\n",
    "                    FROM indicators \n",
    "                    WHERE indicatorname = 'Survival to age 65, male (% of cohort)'\n",
    "                    GROUP BY countryname\n",
    "                    ORDER BY avg_survival65_male ASC\n",
    "                    LIMIT 10;\"\"\", conn)"
   ]
  },
  {
   "cell_type": "code",
   "execution_count": 80,
   "metadata": {},
   "outputs": [
    {
     "data": {
      "text/html": [
       "<div>\n",
       "<style scoped>\n",
       "    .dataframe tbody tr th:only-of-type {\n",
       "        vertical-align: middle;\n",
       "    }\n",
       "\n",
       "    .dataframe tbody tr th {\n",
       "        vertical-align: top;\n",
       "    }\n",
       "\n",
       "    .dataframe thead th {\n",
       "        text-align: right;\n",
       "    }\n",
       "</style>\n",
       "<table border=\"1\" class=\"dataframe\">\n",
       "  <thead>\n",
       "    <tr style=\"text-align: right;\">\n",
       "      <th></th>\n",
       "      <th>CountryName</th>\n",
       "      <th>Year</th>\n",
       "      <th>survival65_male</th>\n",
       "    </tr>\n",
       "  </thead>\n",
       "  <tbody>\n",
       "    <tr>\n",
       "      <th>0</th>\n",
       "      <td>Israel</td>\n",
       "      <td>1960</td>\n",
       "      <td>72.43785</td>\n",
       "    </tr>\n",
       "    <tr>\n",
       "      <th>1</th>\n",
       "      <td>Israel</td>\n",
       "      <td>1961</td>\n",
       "      <td>72.68368</td>\n",
       "    </tr>\n",
       "    <tr>\n",
       "      <th>2</th>\n",
       "      <td>Israel</td>\n",
       "      <td>1962</td>\n",
       "      <td>72.92951</td>\n",
       "    </tr>\n",
       "    <tr>\n",
       "      <th>3</th>\n",
       "      <td>Israel</td>\n",
       "      <td>1963</td>\n",
       "      <td>73.13459</td>\n",
       "    </tr>\n",
       "    <tr>\n",
       "      <th>4</th>\n",
       "      <td>Israel</td>\n",
       "      <td>1964</td>\n",
       "      <td>73.33966</td>\n",
       "    </tr>\n",
       "  </tbody>\n",
       "</table>\n",
       "</div>"
      ],
      "text/plain": [
       "  CountryName  Year  survival65_male\n",
       "0      Israel  1960         72.43785\n",
       "1      Israel  1961         72.68368\n",
       "2      Israel  1962         72.92951\n",
       "3      Israel  1963         73.13459\n",
       "4      Israel  1964         73.33966"
      ]
     },
     "execution_count": 80,
     "metadata": {},
     "output_type": "execute_result"
    }
   ],
   "source": [
    "#Females - Israel's survival rate over the years\n",
    "pd.read_sql(\"\"\" SELECT countryname, year, value as survival65_female\n",
    "                    FROM indicators \n",
    "                    WHERE indicatorname = 'Survival to age 65, female (% of cohort)' and countrycode='ISR' \n",
    "                    GROUP BY countryname,year\n",
    "                    ORDER BY survival65_female asc\n",
    ";\"\"\", conn)\n",
    "\n",
    "\n",
    "\n",
    "#Males - Israel's survival rate over the years\n",
    "pd.read_sql(\"\"\" SELECT countryname, year, value as survival65_male\n",
    "                    FROM indicators \n",
    "                    WHERE indicatorname = 'Survival to age 65, male (% of cohort)' and countrycode='ISR' \n",
    "                    GROUP BY countryname,year\n",
    "                    ORDER BY survival65_male asc\n",
    "                    LIMIT 5\n",
    ";\"\"\", conn)\n",
    "\n"
   ]
  },
  {
   "cell_type": "code",
   "execution_count": 13,
   "metadata": {},
   "outputs": [
    {
     "name": "stdout",
     "output_type": "stream",
     "text": [
      "  CountryName  Year  min(value)  max(value)  \\\n",
      "0      Israel  2013    78.25603    93.10509   \n",
      "\n",
      "   increased_survival_percentages_female  \n",
      "0                               14.84906  \n",
      "  CountryName  Year  min(value)  max(value)  \\\n",
      "0      Israel  2013    72.43785    88.10794   \n",
      "\n",
      "   increased_survival_percentages_male  \n",
      "0                             15.67009  \n"
     ]
    }
   ],
   "source": [
    "#Females - Israel's survival chart over the years, 1960 - 2013\n",
    "print(pd.read_sql(\"\"\"SELECT countryName, year, min(value), max(value), max(value) - min(value) increased_survival_percentages_female\n",
    "               FROM indicators\n",
    "               WHERE indicatorName = 'Survival to age 65, female (% of cohort)'\n",
    "               and countrycode = 'ISR';\"\"\", conn))\n",
    "\n",
    "\n",
    "#Males - Israel's survival chart over the years, 1960 - 2013\n",
    "print(pd.read_sql(\"\"\"SELECT countryName, year, min(value), max(value), max(value) - min(value) increased_survival_percentages_male\n",
    "               FROM indicators\n",
    "               WHERE indicatorName = 'Survival to age 65, male (% of cohort)'\n",
    "               and countrycode = 'ISR';\"\"\", conn))"
   ]
  },
  {
   "cell_type": "markdown",
   "metadata": {},
   "source": [
    "Sweden has the highest survival to 65 y/o rate, with an average of 88.8 years for females, and 81.35 for males.\n",
    "Sierra Leone presents the lowest survial rate, with 28.4 years for female and 26.7 years for males.\n",
    "This is an average rate over all the years of the cohort.\n",
    "\n",
    "\n",
    "Israel's survival rate increased every year, between the years 1960 and 2013.\n",
    "The survival rate increased by 19% for women and by 21% for males, and as for 2013 it is 93.1 years for females, and 88.1 years for males."
   ]
  },
  {
   "cell_type": "markdown",
   "metadata": {},
   "source": [
    "## Which country has the highest adolescent fertility rate?"
   ]
  },
  {
   "cell_type": "markdown",
   "metadata": {},
   "source": [
    "Is this section, I will query for the country with the highest adolescent fertility rate, with is calucluated by the number of births per 1,000 women ages 15-19, during the 2000's.\n",
    "\n"
   ]
  },
  {
   "cell_type": "code",
   "execution_count": 14,
   "metadata": {},
   "outputs": [
    {
     "data": {
      "text/html": [
       "<div>\n",
       "<style scoped>\n",
       "    .dataframe tbody tr th:only-of-type {\n",
       "        vertical-align: middle;\n",
       "    }\n",
       "\n",
       "    .dataframe tbody tr th {\n",
       "        vertical-align: top;\n",
       "    }\n",
       "\n",
       "    .dataframe thead th {\n",
       "        text-align: right;\n",
       "    }\n",
       "</style>\n",
       "<table border=\"1\" class=\"dataframe\">\n",
       "  <thead>\n",
       "    <tr style=\"text-align: right;\">\n",
       "      <th></th>\n",
       "      <th>global_adolescent_fertility_rate_2000_2010</th>\n",
       "    </tr>\n",
       "  </thead>\n",
       "  <tbody>\n",
       "    <tr>\n",
       "      <th>0</th>\n",
       "      <td>56.857412</td>\n",
       "    </tr>\n",
       "  </tbody>\n",
       "</table>\n",
       "</div>"
      ],
      "text/plain": [
       "   global_adolescent_fertility_rate_2000_2010\n",
       "0                                   56.857412"
      ]
     },
     "execution_count": 14,
     "metadata": {},
     "output_type": "execute_result"
    }
   ],
   "source": [
    "#Global\n",
    "pd.read_sql(\"\"\" SELECT avg(value) global_adolescent_fertility_rate_1960_1970\n",
    "                FROM indicators\n",
    "                WHERE indicatorname= 'Adolescent fertility rate (births per 1,000 women ages 15-19)'\n",
    "                and year between 1960 and 1970 \n",
    "                ;\"\"\",conn)\n",
    "\n",
    "pd.read_sql(\"\"\" SELECT avg(value) global_adolescent_fertility_rate_2000_2010\n",
    "                FROM indicators\n",
    "                WHERE indicatorname= 'Adolescent fertility rate (births per 1,000 women ages 15-19)'\n",
    "                and year between 2000 and 2010 \n",
    "                ;\"\"\",conn)\n",
    "\n"
   ]
  },
  {
   "cell_type": "code",
   "execution_count": 24,
   "metadata": {},
   "outputs": [
    {
     "name": "stdout",
     "output_type": "stream",
     "text": [
      "            CountryName  adolescent_fertility_rate\n",
      "0      Korea, Dem. Rep.                   0.802873\n",
      "1           Korea, Rep.                   2.150073\n",
      "2  Hong Kong SAR, China                   3.494564\n",
      "3      Macao SAR, China                   3.829527\n",
      "4           Switzerland                   4.793000 \n",
      "     CountryName  adolescent_fertility_rate\n",
      "222  Mozambique                 177.329436\n",
      "223        Mali                 182.169855\n",
      "224        Chad                 191.645473\n",
      "225      Angola                 195.736218\n",
      "226       Niger                 214.840436\n"
     ]
    }
   ],
   "source": [
    "#Per country\n",
    "fertility_rate = pd.read_sql(\"\"\" SELECT countryname, avg(value) adolescent_fertility_rate\n",
    "                FROM indicators\n",
    "                WHERE indicatorname= 'Adolescent fertility rate (births per 1,000 women ages 15-19)'\n",
    "                and year between 2000 and 2010 \n",
    "                GROUP BY countryname\n",
    "                ORDER BY adolescent_fertility_rate\n",
    "                ;\"\"\",conn)\n",
    "\n",
    "print(fertility_rate.head(), \"\\n\",\n",
    "fertility_rate.tail())\n"
   ]
  },
  {
   "cell_type": "code",
   "execution_count": 72,
   "metadata": {},
   "outputs": [
    {
     "data": {
      "image/png": "[encoded data removed]",
      "text/plain": [
       "<Figure size 1080x576 with 1 Axes>"
      ]
     },
     "metadata": {
      "needs_background": "light"
     },
     "output_type": "display_data"
    }
   ],
   "source": [
    "#Israel's adolescent fertility rate - total average\n",
    "pd.read_sql(\"\"\" SELECT countryname, avg(value) adolescent_fertility_rate\n",
    "                FROM indicators\n",
    "                WHERE indicatorname= 'Adolescent fertility rate (births per 1,000 women ages 15-19)'\n",
    "                and year between 2000 and 2010 and countrycode = 'ISR'\n",
    "                GROUP BY countryname\n",
    "                ;\"\"\",conn)\n",
    "\n",
    "#Israel's adolescent fertility rate - grouped by year\n",
    "isr_fr = pd.read_sql(\"\"\" SELECT countryname, year, value adolescent_fertility_rate\n",
    "                FROM indicators\n",
    "                WHERE indicatorname= 'Adolescent fertility rate (births per 1,000 women ages 15-19)'\n",
    "                and countrycode = 'ISR'\n",
    "                GROUP BY countryname, year\n",
    "                ;\"\"\",conn)\n",
    "\n",
    "\n",
    "plt.figure(figsize=(15,8))\n",
    "isr_fr_plot = sns.lineplot(x=\"Year\",  y=\"adolescent_fertility_rate\", data=isr_fr)\n",
    "isr_fr_plot.set_title(\"Israel's Adolescent Fertility Rate (Births Per 1,000 Women Ages 15-19)\",fontsize=30)\n",
    "isr_fr_plot.set_xlabel('Year', fontsize=20)\n",
    "isr_fr_plot.set_ylabel('Number of Adolescent Births', fontsize=20)\n",
    "isr_fr_plot.tick_params(labelsize=15)\n",
    "\n"
   ]
  },
  {
   "cell_type": "markdown",
   "metadata": {},
   "source": [
    "The global adolescent fertility rate during the 2000's is 56.8 per 1000 births. Countries in Africa has the highest adolescent fertility rate (214/1000 in Niger), while Korea has the lowest (0.8/1000).\n",
    "\n",
    "Israel's adolescent fertility rate from 2000 to 2010 is on overage 14.7 births per 1000 women. \n",
    "The number of asolescent birth is consistently decreasing since 1960, except for an increase during 1969-1973, could be due to political conflicts, the war of Attrition and the Yum Kipur war.\n"
   ]
  },
  {
   "cell_type": "code",
   "execution_count": null,
   "metadata": {},
   "outputs": [],
   "source": []
  }
 ],
 "metadata": {
  "kernelspec": {
   "display_name": "Python 3",
   "language": "python",
   "name": "python3"
  },
  "language_info": {
   "codemirror_mode": {
    "name": "ipython",
    "version": 3
   },
   "file_extension": ".py",
   "mimetype": "text/x-python",
   "name": "python",
   "nbconvert_exporter": "python",
   "pygments_lexer": "ipython3",
   "version": "3.7.1"
  }
 },
 "nbformat": 4,
 "nbformat_minor": 2
}
