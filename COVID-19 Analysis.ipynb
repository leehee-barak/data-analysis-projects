{
 "cells": [
  {
   "cell_type": "markdown",
   "metadata": {},
   "source": [
    "# COVID 19 Analysis\n",
    "\n"
   ]
  },
  {
   "cell_type": "code",
   "execution_count": 284,
   "metadata": {},
   "outputs": [],
   "source": [
    "import numpy as np \n",
    "import pandas as pd \n",
    "import matplotlib.pyplot as plt\n",
    "import seaborn as sns"
   ]
  },
  {
   "cell_type": "code",
   "execution_count": 285,
   "metadata": {},
   "outputs": [],
   "source": [
    "#reading the files\n",
    "demographic_data = pd.read_csv(\"C:\\\\Users\\\\Leehee\\\\repos\\\\Covid-19\\\\files\\\\covid19_line_list_data.csv\")\n",
    "prevalence_data = pd.read_csv(\"C:\\\\Users\\\\Leehee\\\\repos\\\\Covid-19\\\\files\\\\covid_19_data.csv\")\n"
   ]
  },
  {
   "cell_type": "code",
   "execution_count": 286,
   "metadata": {},
   "outputs": [
    {
     "data": {
      "text/html": [
       "<div>\n",
       "<style scoped>\n",
       "    .dataframe tbody tr th:only-of-type {\n",
       "        vertical-align: middle;\n",
       "    }\n",
       "\n",
       "    .dataframe tbody tr th {\n",
       "        vertical-align: top;\n",
       "    }\n",
       "\n",
       "    .dataframe thead th {\n",
       "        text-align: right;\n",
       "    }\n",
       "</style>\n",
       "<table border=\"1\" class=\"dataframe\">\n",
       "  <thead>\n",
       "    <tr style=\"text-align: right;\">\n",
       "      <th></th>\n",
       "      <th>SNo</th>\n",
       "      <th>ObservationDate</th>\n",
       "      <th>Province/State</th>\n",
       "      <th>Country/Region</th>\n",
       "      <th>Last Update</th>\n",
       "      <th>Confirmed</th>\n",
       "      <th>Deaths</th>\n",
       "      <th>Recovered</th>\n",
       "    </tr>\n",
       "  </thead>\n",
       "  <tbody>\n",
       "    <tr>\n",
       "      <th>0</th>\n",
       "      <td>1</td>\n",
       "      <td>01/22/2020</td>\n",
       "      <td>Anhui</td>\n",
       "      <td>Mainland China</td>\n",
       "      <td>1/22/2020 17:00</td>\n",
       "      <td>1.0</td>\n",
       "      <td>0.0</td>\n",
       "      <td>0.0</td>\n",
       "    </tr>\n",
       "    <tr>\n",
       "      <th>1</th>\n",
       "      <td>2</td>\n",
       "      <td>01/22/2020</td>\n",
       "      <td>Beijing</td>\n",
       "      <td>Mainland China</td>\n",
       "      <td>1/22/2020 17:00</td>\n",
       "      <td>14.0</td>\n",
       "      <td>0.0</td>\n",
       "      <td>0.0</td>\n",
       "    </tr>\n",
       "    <tr>\n",
       "      <th>2</th>\n",
       "      <td>3</td>\n",
       "      <td>01/22/2020</td>\n",
       "      <td>Chongqing</td>\n",
       "      <td>Mainland China</td>\n",
       "      <td>1/22/2020 17:00</td>\n",
       "      <td>6.0</td>\n",
       "      <td>0.0</td>\n",
       "      <td>0.0</td>\n",
       "    </tr>\n",
       "    <tr>\n",
       "      <th>3</th>\n",
       "      <td>4</td>\n",
       "      <td>01/22/2020</td>\n",
       "      <td>Fujian</td>\n",
       "      <td>Mainland China</td>\n",
       "      <td>1/22/2020 17:00</td>\n",
       "      <td>1.0</td>\n",
       "      <td>0.0</td>\n",
       "      <td>0.0</td>\n",
       "    </tr>\n",
       "    <tr>\n",
       "      <th>4</th>\n",
       "      <td>5</td>\n",
       "      <td>01/22/2020</td>\n",
       "      <td>Gansu</td>\n",
       "      <td>Mainland China</td>\n",
       "      <td>1/22/2020 17:00</td>\n",
       "      <td>0.0</td>\n",
       "      <td>0.0</td>\n",
       "      <td>0.0</td>\n",
       "    </tr>\n",
       "  </tbody>\n",
       "</table>\n",
       "</div>"
      ],
      "text/plain": [
       "   SNo ObservationDate Province/State  Country/Region      Last Update  \\\n",
       "0    1      01/22/2020          Anhui  Mainland China  1/22/2020 17:00   \n",
       "1    2      01/22/2020        Beijing  Mainland China  1/22/2020 17:00   \n",
       "2    3      01/22/2020      Chongqing  Mainland China  1/22/2020 17:00   \n",
       "3    4      01/22/2020         Fujian  Mainland China  1/22/2020 17:00   \n",
       "4    5      01/22/2020          Gansu  Mainland China  1/22/2020 17:00   \n",
       "\n",
       "   Confirmed  Deaths  Recovered  \n",
       "0        1.0     0.0        0.0  \n",
       "1       14.0     0.0        0.0  \n",
       "2        6.0     0.0        0.0  \n",
       "3        1.0     0.0        0.0  \n",
       "4        0.0     0.0        0.0  "
      ]
     },
     "execution_count": 286,
     "metadata": {},
     "output_type": "execute_result"
    }
   ],
   "source": [
    "demographic_data.head()\n",
    "prevalence_data.head()"
   ]
  },
  {
   "cell_type": "code",
   "execution_count": 287,
   "metadata": {},
   "outputs": [
    {
     "name": "stdout",
     "output_type": "stream",
     "text": [
      "id                         0.0\n",
      "case_in_country           18.0\n",
      "reporting date             0.0\n",
      "Unnamed: 3               100.0\n",
      "summary                    0.0\n",
      "location                   0.0\n",
      "country                    0.0\n",
      "gender                    17.0\n",
      "age                       22.0\n",
      "symptom_onset             48.0\n",
      "If_onset_approximated     48.0\n",
      "hosp_visit_date           53.0\n",
      "exposure_start            88.0\n",
      "exposure_end              69.0\n",
      "visiting Wuhan             0.0\n",
      "from Wuhan                 0.0\n",
      "death                      0.0\n",
      "recovered                  0.0\n",
      "symptom                   75.0\n",
      "source                     0.0\n",
      "link                       0.0\n",
      "Unnamed: 21              100.0\n",
      "Unnamed: 22              100.0\n",
      "Unnamed: 23              100.0\n",
      "Unnamed: 24              100.0\n",
      "Unnamed: 25              100.0\n",
      "Unnamed: 26              100.0\n",
      "dtype: float64 SNo                 0.0\n",
      "ObservationDate     0.0\n",
      "Province/State     45.0\n",
      "Country/Region      0.0\n",
      "Last Update         0.0\n",
      "Confirmed           0.0\n",
      "Deaths              0.0\n",
      "Recovered           0.0\n",
      "dtype: float64\n"
     ]
    }
   ],
   "source": [
    "#calculate the percentage of null values in each column\n",
    "percent_missing_dd = demographic_data.isna().mean().round(2) * 100\n",
    "percent_missing_pd = prevalence_data.isna().mean().round(2) * 100\n",
    "print(percent_missing_dd, percent_missing_pd) \n",
    "\n"
   ]
  },
  {
   "cell_type": "code",
   "execution_count": 288,
   "metadata": {},
   "outputs": [],
   "source": [
    "#drop columns with 100% missing data\n",
    "dd = demographic_data.drop(['Unnamed: 3', 'Unnamed: 21', 'Unnamed: 22', 'Unnamed: 23' , 'Unnamed: 24', 'Unnamed: 25', 'Unnamed: 26'], axis=1)\n",
    "pd = prevalence_data.copy()"
   ]
  },
  {
   "cell_type": "code",
   "execution_count": 289,
   "metadata": {},
   "outputs": [],
   "source": [
    "#replace nan values in the 'symptom_onset' to 'Unknown'\n",
    "dd['symptom_onset'] = dd['symptom_onset'].fillna('Unknown')\n",
    "pd['Province/State'] = pd['Province/State'].fillna('Unknown')"
   ]
  },
  {
   "cell_type": "code",
   "execution_count": 290,
   "metadata": {},
   "outputs": [
    {
     "name": "stdout",
     "output_type": "stream",
     "text": [
      "<class 'pandas.core.frame.DataFrame'>\n",
      "RangeIndex: 9117 entries, 0 to 9116\n",
      "Data columns (total 8 columns):\n",
      "SNo                9117 non-null int64\n",
      "ObservationDate    9117 non-null object\n",
      "Province/State     9117 non-null object\n",
      "Country/Region     9117 non-null object\n",
      "Last Update        9117 non-null object\n",
      "Confirmed          9117 non-null float64\n",
      "Deaths             9117 non-null float64\n",
      "Recovered          9117 non-null float64\n",
      "dtypes: float64(3), int64(1), object(4)\n",
      "memory usage: 569.9+ KB\n"
     ]
    }
   ],
   "source": [
    "pd.info()\n",
    "#change columns that represent number of people to int instead of float\n",
    "pd[[\"Confirmed\", \"Deaths\", \"Recovered\"]] = pd[[\"Confirmed\", \"Deaths\", \"Recovered\"]].astype(int)\n"
   ]
  },
  {
   "cell_type": "code",
   "execution_count": 291,
   "metadata": {},
   "outputs": [
    {
     "data": {
      "text/html": [
       "<div>\n",
       "<style scoped>\n",
       "    .dataframe tbody tr th:only-of-type {\n",
       "        vertical-align: middle;\n",
       "    }\n",
       "\n",
       "    .dataframe tbody tr th {\n",
       "        vertical-align: top;\n",
       "    }\n",
       "\n",
       "    .dataframe thead th {\n",
       "        text-align: right;\n",
       "    }\n",
       "</style>\n",
       "<table border=\"1\" class=\"dataframe\">\n",
       "  <thead>\n",
       "    <tr style=\"text-align: right;\">\n",
       "      <th></th>\n",
       "      <th>SNo</th>\n",
       "      <th>ObservationDate</th>\n",
       "      <th>Province/State</th>\n",
       "      <th>Country/Region</th>\n",
       "      <th>Last Update</th>\n",
       "      <th>Confirmed</th>\n",
       "      <th>Deaths</th>\n",
       "      <th>Recovered</th>\n",
       "      <th>Active</th>\n",
       "    </tr>\n",
       "  </thead>\n",
       "  <tbody>\n",
       "    <tr>\n",
       "      <th>0</th>\n",
       "      <td>1</td>\n",
       "      <td>01/22/2020</td>\n",
       "      <td>Anhui</td>\n",
       "      <td>Mainland China</td>\n",
       "      <td>1/22/2020 17:00</td>\n",
       "      <td>1</td>\n",
       "      <td>0</td>\n",
       "      <td>0</td>\n",
       "      <td>1</td>\n",
       "    </tr>\n",
       "    <tr>\n",
       "      <th>1</th>\n",
       "      <td>2</td>\n",
       "      <td>01/22/2020</td>\n",
       "      <td>Beijing</td>\n",
       "      <td>Mainland China</td>\n",
       "      <td>1/22/2020 17:00</td>\n",
       "      <td>14</td>\n",
       "      <td>0</td>\n",
       "      <td>0</td>\n",
       "      <td>14</td>\n",
       "    </tr>\n",
       "    <tr>\n",
       "      <th>2</th>\n",
       "      <td>3</td>\n",
       "      <td>01/22/2020</td>\n",
       "      <td>Chongqing</td>\n",
       "      <td>Mainland China</td>\n",
       "      <td>1/22/2020 17:00</td>\n",
       "      <td>6</td>\n",
       "      <td>0</td>\n",
       "      <td>0</td>\n",
       "      <td>6</td>\n",
       "    </tr>\n",
       "    <tr>\n",
       "      <th>3</th>\n",
       "      <td>4</td>\n",
       "      <td>01/22/2020</td>\n",
       "      <td>Fujian</td>\n",
       "      <td>Mainland China</td>\n",
       "      <td>1/22/2020 17:00</td>\n",
       "      <td>1</td>\n",
       "      <td>0</td>\n",
       "      <td>0</td>\n",
       "      <td>1</td>\n",
       "    </tr>\n",
       "    <tr>\n",
       "      <th>4</th>\n",
       "      <td>5</td>\n",
       "      <td>01/22/2020</td>\n",
       "      <td>Gansu</td>\n",
       "      <td>Mainland China</td>\n",
       "      <td>1/22/2020 17:00</td>\n",
       "      <td>0</td>\n",
       "      <td>0</td>\n",
       "      <td>0</td>\n",
       "      <td>0</td>\n",
       "    </tr>\n",
       "    <tr>\n",
       "      <th>5</th>\n",
       "      <td>6</td>\n",
       "      <td>01/22/2020</td>\n",
       "      <td>Guangdong</td>\n",
       "      <td>Mainland China</td>\n",
       "      <td>1/22/2020 17:00</td>\n",
       "      <td>26</td>\n",
       "      <td>0</td>\n",
       "      <td>0</td>\n",
       "      <td>26</td>\n",
       "    </tr>\n",
       "    <tr>\n",
       "      <th>6</th>\n",
       "      <td>7</td>\n",
       "      <td>01/22/2020</td>\n",
       "      <td>Guangxi</td>\n",
       "      <td>Mainland China</td>\n",
       "      <td>1/22/2020 17:00</td>\n",
       "      <td>2</td>\n",
       "      <td>0</td>\n",
       "      <td>0</td>\n",
       "      <td>2</td>\n",
       "    </tr>\n",
       "    <tr>\n",
       "      <th>7</th>\n",
       "      <td>8</td>\n",
       "      <td>01/22/2020</td>\n",
       "      <td>Guizhou</td>\n",
       "      <td>Mainland China</td>\n",
       "      <td>1/22/2020 17:00</td>\n",
       "      <td>1</td>\n",
       "      <td>0</td>\n",
       "      <td>0</td>\n",
       "      <td>1</td>\n",
       "    </tr>\n",
       "    <tr>\n",
       "      <th>8</th>\n",
       "      <td>9</td>\n",
       "      <td>01/22/2020</td>\n",
       "      <td>Hainan</td>\n",
       "      <td>Mainland China</td>\n",
       "      <td>1/22/2020 17:00</td>\n",
       "      <td>4</td>\n",
       "      <td>0</td>\n",
       "      <td>0</td>\n",
       "      <td>4</td>\n",
       "    </tr>\n",
       "    <tr>\n",
       "      <th>9</th>\n",
       "      <td>10</td>\n",
       "      <td>01/22/2020</td>\n",
       "      <td>Hebei</td>\n",
       "      <td>Mainland China</td>\n",
       "      <td>1/22/2020 17:00</td>\n",
       "      <td>1</td>\n",
       "      <td>0</td>\n",
       "      <td>0</td>\n",
       "      <td>1</td>\n",
       "    </tr>\n",
       "  </tbody>\n",
       "</table>\n",
       "</div>"
      ],
      "text/plain": [
       "   SNo ObservationDate Province/State  Country/Region      Last Update  \\\n",
       "0    1      01/22/2020          Anhui  Mainland China  1/22/2020 17:00   \n",
       "1    2      01/22/2020        Beijing  Mainland China  1/22/2020 17:00   \n",
       "2    3      01/22/2020      Chongqing  Mainland China  1/22/2020 17:00   \n",
       "3    4      01/22/2020         Fujian  Mainland China  1/22/2020 17:00   \n",
       "4    5      01/22/2020          Gansu  Mainland China  1/22/2020 17:00   \n",
       "5    6      01/22/2020      Guangdong  Mainland China  1/22/2020 17:00   \n",
       "6    7      01/22/2020        Guangxi  Mainland China  1/22/2020 17:00   \n",
       "7    8      01/22/2020        Guizhou  Mainland China  1/22/2020 17:00   \n",
       "8    9      01/22/2020         Hainan  Mainland China  1/22/2020 17:00   \n",
       "9   10      01/22/2020          Hebei  Mainland China  1/22/2020 17:00   \n",
       "\n",
       "   Confirmed  Deaths  Recovered  Active  \n",
       "0          1       0          0       1  \n",
       "1         14       0          0      14  \n",
       "2          6       0          0       6  \n",
       "3          1       0          0       1  \n",
       "4          0       0          0       0  \n",
       "5         26       0          0      26  \n",
       "6          2       0          0       2  \n",
       "7          1       0          0       1  \n",
       "8          4       0          0       4  \n",
       "9          1       0          0       1  "
      ]
     },
     "execution_count": 291,
     "metadata": {},
     "output_type": "execute_result"
    }
   ],
   "source": [
    "#create a new column for each observation- active cases\n",
    "pd['Active'] = pd['Confirmed'] - pd['Recovered'] - pd['Deaths']\n",
    "pd.head(10)"
   ]
  },
  {
   "cell_type": "code",
   "execution_count": 292,
   "metadata": {},
   "outputs": [],
   "source": [
    "#Create a new dataframe, based on the updated observations. The data was last updated on March 26th.\n",
    "pd_updated = pd[pd['ObservationDate'] == max(pd['ObservationDate'])].reset_index()\n",
    "\n",
    "#get most updated data globally\n",
    "updated_world_status = pd_updated.groupby('ObservationDate')[[\"Confirmed\", \"Deaths\", \"Recovered\", \"Active\"]].sum()\n"
   ]
  },
  {
   "cell_type": "code",
   "execution_count": 293,
   "metadata": {},
   "outputs": [
    {
     "name": "stderr",
     "output_type": "stream",
     "text": [
      "C:\\Users\\Leehee\\Anaconda3\\lib\\site-packages\\ipykernel_launcher.py:2: MatplotlibDeprecationWarning: Adding an axes using the same arguments as a previous axes currently reuses the earlier instance.  In a future version, a new instance will always be created and returned.  Meanwhile, this warning can be suppressed, and the future behavior ensured, by passing a unique label to each axes instance.\n",
      "  \n"
     ]
    },
    {
     "data": {
      "text/plain": [
       "Text(0.5, 1.0, 'World COVID-19 Status - 26/3/20')"
      ]
     },
     "execution_count": 293,
     "metadata": {},
     "output_type": "execute_result"
    },
    {
     "data": {
      "image/png": "[encoded data removed]",
      "text/plain": [
       "<Figure size 432x288 with 1 Axes>"
      ]
     },
     "metadata": {},
     "output_type": "display_data"
    }
   ],
   "source": [
    "updated_world_status.plot(kind='bar')\n",
    "x_axis = plt.axes().axes.get_xaxis()\n",
    "x_axis.set_visible(False)\n",
    "plt.xticks([], [])\n",
    "plt.title('World COVID-19 Status - 26/3/20')\n",
    "\n",
    "\n",
    "\n",
    "\n",
    "\n"
   ]
  },
  {
   "cell_type": "code",
   "execution_count": 221,
   "metadata": {},
   "outputs": [
    {
     "data": {
      "text/html": [
       "<style  type=\"text/css\" >\n",
       "    #T_2d0d9380_71d3_11ea_ad86_bdeba3bfb2fdrow0_col0 {\n",
       "            background-color:  orange;\n",
       "        }    #T_2d0d9380_71d3_11ea_ad86_bdeba3bfb2fdrow0_col1 {\n",
       "            background-color:  orange;\n",
       "        }    #T_2d0d9380_71d3_11ea_ad86_bdeba3bfb2fdrow0_col2 {\n",
       "            background-color:  orange;\n",
       "        }    #T_2d0d9380_71d3_11ea_ad86_bdeba3bfb2fdrow0_col3 {\n",
       "            background-color:  orange;\n",
       "        }</style>  \n",
       "<table id=\"T_2d0d9380_71d3_11ea_ad86_bdeba3bfb2fd\" > \n",
       "<thead>    <tr> \n",
       "        <th class=\"blank level0\" ></th> \n",
       "        <th class=\"col_heading level0 col0\" >Confirmed</th> \n",
       "        <th class=\"col_heading level0 col1\" >Deaths</th> \n",
       "        <th class=\"col_heading level0 col2\" >Recovered</th> \n",
       "        <th class=\"col_heading level0 col3\" >Active</th> \n",
       "    </tr>    <tr> \n",
       "        <th class=\"index_name level0\" >ObservationDate</th> \n",
       "        <th class=\"blank\" ></th> \n",
       "        <th class=\"blank\" ></th> \n",
       "        <th class=\"blank\" ></th> \n",
       "        <th class=\"blank\" ></th> \n",
       "    </tr></thead> \n",
       "<tbody>    <tr> \n",
       "        <th id=\"T_2d0d9380_71d3_11ea_ad86_bdeba3bfb2fdlevel0_row0\" class=\"row_heading level0 row0\" >03/26/2020</th> \n",
       "        <td id=\"T_2d0d9380_71d3_11ea_ad86_bdeba3bfb2fdrow0_col0\" class=\"data row0 col0\" >529591</td> \n",
       "        <td id=\"T_2d0d9380_71d3_11ea_ad86_bdeba3bfb2fdrow0_col1\" class=\"data row0 col1\" >23970</td> \n",
       "        <td id=\"T_2d0d9380_71d3_11ea_ad86_bdeba3bfb2fdrow0_col2\" class=\"data row0 col2\" >122150</td> \n",
       "        <td id=\"T_2d0d9380_71d3_11ea_ad86_bdeba3bfb2fdrow0_col3\" class=\"data row0 col3\" >383471</td> \n",
       "    </tr></tbody> \n",
       "</table> "
      ],
      "text/plain": [
       "<pandas.io.formats.style.Styler at 0x19a2fc4e438>"
      ]
     },
     "execution_count": 221,
     "metadata": {},
     "output_type": "execute_result"
    }
   ],
   "source": [
    "updated_world_status.style.highlight_max(color='orange')"
   ]
  },
  {
   "cell_type": "code",
   "execution_count": 295,
   "metadata": {},
   "outputs": [
    {
     "data": {
      "image/png": "[encoded data removed]",
      "text/plain": [
       "<Figure size 432x288 with 1 Axes>"
      ]
     },
     "metadata": {},
     "output_type": "display_data"
    }
   ],
   "source": [
    "#pie plot\n",
    "labels = ['Deaths', 'Recovered', 'Active']\n",
    "sizes = [23907, 122150, 383471]\n",
    "fig1, ax1 = plt.subplots()\n",
    "ax1.pie(sizes, explode=(0, 0, 0.1), labels=labels, autopct='%1.1f%%',\n",
    "         shadow=False, startangle=90)\n",
    "ax1.axis('equal')\n",
    "plt.title('Total Confirmed Cases - 529,591 ')\n",
    "plt.show()"
   ]
  },
  {
   "cell_type": "code",
   "execution_count": null,
   "metadata": {},
   "outputs": [],
   "source": []
  }
 ],
 "metadata": {
  "kernelspec": {
   "display_name": "Python 3",
   "language": "python",
   "name": "python3"
  },
  "language_info": {
   "codemirror_mode": {
    "name": "ipython",
    "version": 3
   },
   "file_extension": ".py",
   "mimetype": "text/x-python",
   "name": "python",
   "nbconvert_exporter": "python",
   "pygments_lexer": "ipython3",
   "version": "3.7.1"
  }
 },
 "nbformat": 4,
 "nbformat_minor": 2
}
